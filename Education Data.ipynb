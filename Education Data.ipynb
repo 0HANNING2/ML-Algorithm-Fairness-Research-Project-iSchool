{
 "cells": [
  {
   "cell_type": "code",
   "execution_count": 1,
   "id": "aea950e7-2e5e-41a2-b41b-5fd62df36957",
   "metadata": {},
   "outputs": [
    {
     "name": "stderr",
     "output_type": "stream",
     "text": [
      "2024-03-28 22:35:23.353984: I tensorflow/core/platform/cpu_feature_guard.cc:182] This TensorFlow binary is optimized to use available CPU instructions in performance-critical operations.\n",
      "To enable the following instructions: AVX2 FMA, in other operations, rebuild TensorFlow with the appropriate compiler flags.\n"
     ]
    }
   ],
   "source": [
    "%matplotlib inline\n",
    "# Load all necessary packages\n",
    "import sys\n",
    "import numpy as np\n",
    "import pandas as pd\n",
    "import sklearn\n",
    "\n",
    "sys.path.append(\"../\")\n",
    "from aif360.datasets import CompasDataset\n",
    "from aif360.metrics import BinaryLabelDatasetMetric\n",
    "from aif360.metrics import ClassificationMetric\n",
    "from aif360.metrics.utils import compute_boolean_conditioning_vector\n",
    "\n",
    "from aif360.algorithms.preprocessing.optim_preproc_helpers.data_preproc_functions\\\n",
    "                import load_preproc_data_adult, load_preproc_data_compas\n",
    "\n",
    "from sklearn.preprocessing import scale\n",
    "from sklearn.linear_model import LogisticRegression\n",
    "\n",
    "from IPython.display import Markdown, display\n",
    "import matplotlib.pyplot as plt"
   ]
  },
  {
   "cell_type": "code",
   "execution_count": 2,
   "id": "bb90f1c0-d136-4e56-b05e-d519745e399e",
   "metadata": {},
   "outputs": [
    {
     "data": {
      "text/plain": [
       "               instance weights features                                   \\\n",
       "                                         protected attribute                \n",
       "                                  school                 sex  age address   \n",
       "instance names                                                              \n",
       "0                           1.0      0.0                 1.0  3.0     0.0   \n",
       "1                           1.0      0.0                 1.0  2.0     0.0   \n",
       "2                           1.0      0.0                 1.0  0.0     0.0   \n",
       "3                           1.0      0.0                 1.0  0.0     0.0   \n",
       "4                           1.0      0.0                 1.0  1.0     0.0   \n",
       "...                         ...      ...                 ...  ...     ...   \n",
       "390                         1.0      1.0                 0.0  5.0     0.0   \n",
       "391                         1.0      1.0                 0.0  2.0     0.0   \n",
       "392                         1.0      1.0                 0.0  6.0     1.0   \n",
       "393                         1.0      1.0                 0.0  3.0     1.0   \n",
       "394                         1.0      1.0                 0.0  4.0     0.0   \n",
       "\n",
       "                                               ...                             \\\n",
       "                                               ...                              \n",
       "               famsize Pstatus Medu Fedu Mjob  ... famrel freetime goout Dalc   \n",
       "instance names                                 ...                              \n",
       "0                  0.0     1.0  4.0  4.0  3.0  ...    4.0      3.0   4.0  1.0   \n",
       "1                  0.0     0.0  1.0  1.0  3.0  ...    5.0      3.0   3.0  1.0   \n",
       "2                  0.0     0.0  1.0  1.0  3.0  ...    4.0      3.0   2.0  2.0   \n",
       "3                  0.0     0.0  4.0  2.0  1.0  ...    3.0      2.0   2.0  1.0   \n",
       "4                  0.0     0.0  3.0  3.0  4.0  ...    4.0      3.0   2.0  1.0   \n",
       "...                ...     ...  ...  ...  ...  ...    ...      ...   ...  ...   \n",
       "390                0.0     1.0  2.0  2.0  2.0  ...    5.0      5.0   4.0  4.0   \n",
       "391                0.0     0.0  3.0  1.0  2.0  ...    2.0      4.0   5.0  3.0   \n",
       "392                0.0     0.0  1.0  1.0  4.0  ...    5.0      5.0   3.0  3.0   \n",
       "393                0.0     0.0  3.0  2.0  2.0  ...    4.0      4.0   1.0  3.0   \n",
       "394                0.0     0.0  1.0  1.0  4.0  ...    3.0      2.0   3.0  3.0   \n",
       "\n",
       "                                                labels  \n",
       "                                                        \n",
       "               Walc health absences    G1    G2         \n",
       "instance names                                          \n",
       "0               1.0    3.0      6.0   5.0   6.0    0.0  \n",
       "1               1.0    3.0      4.0   5.0   5.0    0.0  \n",
       "2               3.0    3.0     10.0   7.0   8.0    0.0  \n",
       "3               1.0    5.0      2.0  15.0  14.0    1.0  \n",
       "4               2.0    5.0      4.0   6.0  10.0    0.0  \n",
       "...             ...    ...      ...   ...   ...    ...  \n",
       "390             5.0    4.0     11.0   9.0   9.0    0.0  \n",
       "391             4.0    2.0      3.0  14.0  16.0    1.0  \n",
       "392             3.0    3.0      3.0  10.0   8.0    0.0  \n",
       "393             4.0    5.0      0.0  11.0  12.0    0.0  \n",
       "394             3.0    5.0      5.0   8.0   9.0    0.0  \n",
       "\n",
       "[395 rows x 34 columns]"
      ]
     },
     "execution_count": 2,
     "metadata": {},
     "output_type": "execute_result"
    }
   ],
   "source": [
    "## import dataset\n",
    "import csv\n",
    "from aif360.datasets import BinaryLabelDataset\n",
    "dataset_used = \"/Users/a/Downloads/student+performance/student/student-mat.csv\"\n",
    "headers = \"school;sex;age;address;famsize;Pstatus;Medu;Fedu;Mjob;Fjob;reason;guardian;traveltime;studytime;failures;schoolsup;famsup;paid;activities;nursery;higher;internet;romantic;famrel;freetime;goout;Dalc;Walc;health;absences;G1;G2;G3\"\n",
    "separated_headers = headers.split(';')\n",
    "df = pd.read_csv(dataset_used, delimiter=\";\")\n",
    "d_g3 = {0:0, 1:0, 2:0, 3:0, 4:0, 5:0, 6:0, 7:0, 8:0, 9:0, 10:0, 11:1, 12:1, 13:1, 14:1, 15:1, 16:1, 17:1, 18:1, 19:1, 20:1} #convert into a binary outcome\n",
    "df['G3'] = df['G3'].map(d_g3)\n",
    "df['labels'] = df['G3']\n",
    "df = df.drop('G3', axis = 'columns')\n",
    " \n",
    "#convert categorical to numeric\n",
    "d_school = {'GP': 0, 'MS': 1}\n",
    "d_sex = {'M': 0, 'F': 1}\n",
    "d_age = {15:0, 16:1, 17:2, 18:3, 19:4, 20:5, 21:6, 22:7}\n",
    "d_address = {'U': 0, 'R': 1}\n",
    "d_famsize = {'LE3': 0, 'GT3': 0}\n",
    "d_pstatus = {'T': 0, 'A': 1}\n",
    " \n",
    "d_mjob = {'teacher': 0, 'health': 1, 'services': 2, 'at_home': 3, 'other': 4}\n",
    "d_fjob = {'teacher': 0, 'health': 1, 'services': 2, 'at_home': 3, 'other': 4}\n",
    "d_reason = {'home': 0, 'reputation': 1, 'course': 2, 'other': 3}\n",
    "d_guardian = {'mother': 0, 'father': 1, 'other': 2}\n",
    " \n",
    "d_schoolsup = {'yes': 0, 'no': 1}\n",
    "d_famsup = {'yes': 0, 'no': 1}\n",
    "d_paid = {'yes': 0, 'no': 1}\n",
    "d_activities = {'yes': 0, 'no': 1}\n",
    "d_nursery = {'yes': 0, 'no': 1}\n",
    "d_higher = {'yes': 0, 'no': 1}\n",
    "d_internet = {'yes': 0, 'no': 1}\n",
    "d_romantic = {'yes': 0, 'no': 1}\n",
    " \n",
    "#apply mappings\n",
    "df['school'] = df['school'].map(d_school)\n",
    "df['sex'] = df['sex'].map(d_sex)\n",
    "df['age'] = df['age'].map(d_age)\n",
    "df['address'] = df['address'].map(d_address)\n",
    "df['famsize'] = df['famsize'].map(d_famsize)\n",
    "df['Pstatus'] = df['Pstatus'].map(d_pstatus)\n",
    " \n",
    "df['Mjob'] = df['Mjob'].map(d_mjob)\n",
    "df['Fjob'] = df['Fjob'].map(d_fjob)\n",
    "df['reason'] = df['reason'].map(d_reason)\n",
    "df['guardian'] = df['guardian'].map(d_guardian)\n",
    " \n",
    "df['schoolsup'] = df['schoolsup'].map(d_paid)\n",
    "df['famsup'] = df['famsup'].map(d_paid)\n",
    "df['paid'] = df['paid'].map(d_paid)\n",
    "df['activities'] = df['activities'].map(d_paid)\n",
    "df['nursery'] = df['nursery'].map(d_paid)\n",
    "df['higher'] = df['higher'].map(d_paid)\n",
    "df['internet'] = df['internet'].map(d_paid)\n",
    "df['romantic'] = df['romantic'].map(d_paid)\n",
    " \n",
    "df = df.dropna()\n",
    "df = df.apply(pd.to_numeric)\n",
    "df.head()\n",
    "\n",
    "new_data = BinaryLabelDataset(favorable_label=1, unfavorable_label=0, df=df, label_names = [\"labels\"], protected_attribute_names=[\"sex\",\"romantic\"])\n",
    "new_data"
   ]
  },
  {
   "cell_type": "code",
   "execution_count": 3,
   "id": "4d0d5a43-52e0-419e-9a91-41a33e82c4d8",
   "metadata": {},
   "outputs": [],
   "source": [
    "from sklearn.model_selection import train_test_split\n",
    "dataset_orig = new_data\n",
    "dataset_orig_train, dataset_orig_vt = dataset_orig.split([0.6], shuffle=True)\n",
    "dataset_orig_valid, dataset_orig_test = dataset_orig_vt.split([0.5], shuffle=True)"
   ]
  },
  {
   "cell_type": "code",
   "execution_count": 4,
   "id": "921a72f6-addc-494f-bb88-c8d3d91b6368",
   "metadata": {},
   "outputs": [
    {
     "data": {
      "text/markdown": [
       "#### Dataset shape"
      ],
      "text/plain": [
       "<IPython.core.display.Markdown object>"
      ]
     },
     "metadata": {},
     "output_type": "display_data"
    },
    {
     "name": "stdout",
     "output_type": "stream",
     "text": [
      "(237, 32)\n"
     ]
    },
    {
     "data": {
      "text/markdown": [
       "#### Favorable and unfavorable labels"
      ],
      "text/plain": [
       "<IPython.core.display.Markdown object>"
      ]
     },
     "metadata": {},
     "output_type": "display_data"
    },
    {
     "name": "stdout",
     "output_type": "stream",
     "text": [
      "1.0 0.0\n"
     ]
    },
    {
     "data": {
      "text/markdown": [
       "#### Protected attribute names"
      ],
      "text/plain": [
       "<IPython.core.display.Markdown object>"
      ]
     },
     "metadata": {},
     "output_type": "display_data"
    },
    {
     "name": "stdout",
     "output_type": "stream",
     "text": [
      "['sex', 'romantic']\n"
     ]
    },
    {
     "data": {
      "text/markdown": [
       "#### Privileged and unprivileged protected attribute values"
      ],
      "text/plain": [
       "<IPython.core.display.Markdown object>"
      ]
     },
     "metadata": {},
     "output_type": "display_data"
    },
    {
     "name": "stdout",
     "output_type": "stream",
     "text": [
      "[array([1.]), array([1.])] [array([0.]), array([0.])]\n"
     ]
    },
    {
     "data": {
      "text/markdown": [
       "#### Dataset feature names"
      ],
      "text/plain": [
       "<IPython.core.display.Markdown object>"
      ]
     },
     "metadata": {},
     "output_type": "display_data"
    },
    {
     "name": "stdout",
     "output_type": "stream",
     "text": [
      "['school', 'sex', 'age', 'address', 'famsize', 'Pstatus', 'Medu', 'Fedu', 'Mjob', 'Fjob', 'reason', 'guardian', 'traveltime', 'studytime', 'failures', 'schoolsup', 'famsup', 'paid', 'activities', 'nursery', 'higher', 'internet', 'romantic', 'famrel', 'freetime', 'goout', 'Dalc', 'Walc', 'health', 'absences', 'G1', 'G2']\n"
     ]
    }
   ],
   "source": [
    "# print out some labels, names, etc.\n",
    "display(Markdown(\"#### Dataset shape\"))\n",
    "# This line uses the display function from IPython's display module and Markdown function to format the string \n",
    "#\"#### Dataset shape\" as a markdown header. This will show up as a heading in the output cell of a Jupyter notebook.\n",
    "print(dataset_orig_train.features.shape)\n",
    "#The shape is a tuple that indicates the number of instances and features in the dataset (rows, columns).\n",
    "display(Markdown(\"#### Favorable and unfavorable labels\"))\n",
    "print(dataset_orig_train.favorable_label, dataset_orig_train.unfavorable_label)\n",
    "#In the context of fairness, favorable labels might denote a positive outcome (like being granted bail),\n",
    "#while unfavorable labels might denote a negative outcome (like being denied bail)\n",
    "display(Markdown(\"#### Protected attribute names\"))\n",
    "print(dataset_orig_train.protected_attribute_names)\n",
    "#This prints the names of the protected attributes. Protected attributes are typically those that \n",
    "#should not be used for decision-making due to fairness considerations (e.g., race, gender).\n",
    "display(Markdown(\"#### Privileged and unprivileged protected attribute values\"))\n",
    "print(dataset_orig_train.privileged_protected_attributes, dataset_orig_train.unprivileged_protected_attributes)\n",
    "#This prints the values within the protected attributes that are considered privileged and unprivileged. \n",
    "#Privileged values are those that traditionally benefit from societal bias (e.g., being male in a gender attribute), \n",
    "#while unprivileged values are those that traditionally do not (e.g., being female in a gender attribute).\n",
    "display(Markdown(\"#### Dataset feature names\"))\n",
    "print(dataset_orig_train.feature_names) #features that are used to train models"
   ]
  },
  {
   "cell_type": "code",
   "execution_count": 5,
   "id": "ed5227c9-a6ff-4fa3-ab19-5bddf0578a80",
   "metadata": {},
   "outputs": [
    {
     "name": "stdout",
     "output_type": "stream",
     "text": [
      "0.08277906304222094\n",
      "0.03809523809523807\n",
      "0.05555555555555558\n"
     ]
    }
   ],
   "source": [
    "unprivileged_groups = [{\"sex\" : 0}]\n",
    "privileged_groups = [{\"sex\" : 1}]\n",
    "training_metrics = BinaryLabelDatasetMetric(dataset_orig_train, unprivileged_groups = unprivileged_groups, privileged_groups = privileged_groups)\n",
    "print(training_metrics.mean_difference())\n",
    "testing_metrics = BinaryLabelDatasetMetric(dataset_orig_test, unprivileged_groups = unprivileged_groups, privileged_groups = privileged_groups)\n",
    "print(testing_metrics.mean_difference())\n",
    "validation_metrics = BinaryLabelDatasetMetric(dataset_orig_valid, unprivileged_groups = unprivileged_groups, privileged_groups = privileged_groups)\n",
    "print(validation_metrics.mean_difference())"
   ]
  },
  {
   "cell_type": "code",
   "execution_count": 13,
   "id": "2a4418a9-f94f-41d2-83ba-c95b0e65e9db",
   "metadata": {},
   "outputs": [
    {
     "data": {
      "text/html": [
       "<style>#sk-container-id-2 {color: black;background-color: white;}#sk-container-id-2 pre{padding: 0;}#sk-container-id-2 div.sk-toggleable {background-color: white;}#sk-container-id-2 label.sk-toggleable__label {cursor: pointer;display: block;width: 100%;margin-bottom: 0;padding: 0.3em;box-sizing: border-box;text-align: center;}#sk-container-id-2 label.sk-toggleable__label-arrow:before {content: \"▸\";float: left;margin-right: 0.25em;color: #696969;}#sk-container-id-2 label.sk-toggleable__label-arrow:hover:before {color: black;}#sk-container-id-2 div.sk-estimator:hover label.sk-toggleable__label-arrow:before {color: black;}#sk-container-id-2 div.sk-toggleable__content {max-height: 0;max-width: 0;overflow: hidden;text-align: left;background-color: #f0f8ff;}#sk-container-id-2 div.sk-toggleable__content pre {margin: 0.2em;color: black;border-radius: 0.25em;background-color: #f0f8ff;}#sk-container-id-2 input.sk-toggleable__control:checked~div.sk-toggleable__content {max-height: 200px;max-width: 100%;overflow: auto;}#sk-container-id-2 input.sk-toggleable__control:checked~label.sk-toggleable__label-arrow:before {content: \"▾\";}#sk-container-id-2 div.sk-estimator input.sk-toggleable__control:checked~label.sk-toggleable__label {background-color: #d4ebff;}#sk-container-id-2 div.sk-label input.sk-toggleable__control:checked~label.sk-toggleable__label {background-color: #d4ebff;}#sk-container-id-2 input.sk-hidden--visually {border: 0;clip: rect(1px 1px 1px 1px);clip: rect(1px, 1px, 1px, 1px);height: 1px;margin: -1px;overflow: hidden;padding: 0;position: absolute;width: 1px;}#sk-container-id-2 div.sk-estimator {font-family: monospace;background-color: #f0f8ff;border: 1px dotted black;border-radius: 0.25em;box-sizing: border-box;margin-bottom: 0.5em;}#sk-container-id-2 div.sk-estimator:hover {background-color: #d4ebff;}#sk-container-id-2 div.sk-parallel-item::after {content: \"\";width: 100%;border-bottom: 1px solid gray;flex-grow: 1;}#sk-container-id-2 div.sk-label:hover label.sk-toggleable__label {background-color: #d4ebff;}#sk-container-id-2 div.sk-serial::before {content: \"\";position: absolute;border-left: 1px solid gray;box-sizing: border-box;top: 0;bottom: 0;left: 50%;z-index: 0;}#sk-container-id-2 div.sk-serial {display: flex;flex-direction: column;align-items: center;background-color: white;padding-right: 0.2em;padding-left: 0.2em;position: relative;}#sk-container-id-2 div.sk-item {position: relative;z-index: 1;}#sk-container-id-2 div.sk-parallel {display: flex;align-items: stretch;justify-content: center;background-color: white;position: relative;}#sk-container-id-2 div.sk-item::before, #sk-container-id-2 div.sk-parallel-item::before {content: \"\";position: absolute;border-left: 1px solid gray;box-sizing: border-box;top: 0;bottom: 0;left: 50%;z-index: -1;}#sk-container-id-2 div.sk-parallel-item {display: flex;flex-direction: column;z-index: 1;position: relative;background-color: white;}#sk-container-id-2 div.sk-parallel-item:first-child::after {align-self: flex-end;width: 50%;}#sk-container-id-2 div.sk-parallel-item:last-child::after {align-self: flex-start;width: 50%;}#sk-container-id-2 div.sk-parallel-item:only-child::after {width: 0;}#sk-container-id-2 div.sk-dashed-wrapped {border: 1px dashed gray;margin: 0 0.4em 0.5em 0.4em;box-sizing: border-box;padding-bottom: 0.4em;background-color: white;}#sk-container-id-2 div.sk-label label {font-family: monospace;font-weight: bold;display: inline-block;line-height: 1.2em;}#sk-container-id-2 div.sk-label-container {text-align: center;}#sk-container-id-2 div.sk-container {/* jupyter's `normalize.less` sets `[hidden] { display: none; }` but bootstrap.min.css set `[hidden] { display: none !important; }` so we also need the `!important` here to be able to override the default hidden behavior on the sphinx rendered scikit-learn.org. See: https://github.com/scikit-learn/scikit-learn/issues/21755 */display: inline-block !important;position: relative;}#sk-container-id-2 div.sk-text-repr-fallback {display: none;}</style><div id=\"sk-container-id-2\" class=\"sk-top-container\"><div class=\"sk-text-repr-fallback\"><pre>LogisticRegression(random_state=42, solver=&#x27;liblinear&#x27;)</pre><b>In a Jupyter environment, please rerun this cell to show the HTML representation or trust the notebook. <br />On GitHub, the HTML representation is unable to render, please try loading this page with nbviewer.org.</b></div><div class=\"sk-container\" hidden><div class=\"sk-item\"><div class=\"sk-estimator sk-toggleable\"><input class=\"sk-toggleable__control sk-hidden--visually\" id=\"sk-estimator-id-2\" type=\"checkbox\" checked><label for=\"sk-estimator-id-2\" class=\"sk-toggleable__label sk-toggleable__label-arrow\">LogisticRegression</label><div class=\"sk-toggleable__content\"><pre>LogisticRegression(random_state=42, solver=&#x27;liblinear&#x27;)</pre></div></div></div></div></div>"
      ],
      "text/plain": [
       "LogisticRegression(random_state=42, solver='liblinear')"
      ]
     },
     "execution_count": 13,
     "metadata": {},
     "output_type": "execute_result"
    }
   ],
   "source": [
    "original_model = LogisticRegression(solver='liblinear', random_state=42)\n",
    "original_model.fit(dataset_orig_train.features, dataset_orig_train.labels.ravel())"
   ]
  },
  {
   "cell_type": "code",
   "execution_count": 14,
   "id": "87d98cfe-7bd4-4d26-a07d-dcab62124d3c",
   "metadata": {},
   "outputs": [
    {
     "name": "stdout",
     "output_type": "stream",
     "text": [
      "Accuracy_before: 0.8860759493670886\n"
     ]
    }
   ],
   "source": [
    "from sklearn.metrics import accuracy_score\n",
    "test_pred = original_model.predict(dataset_orig_test.features)\n",
    "\n",
    "accuracy_before = accuracy_score(dataset_orig_test.labels, test_pred)\n",
    "\n",
    "print(\"Accuracy_before:\", accuracy_before)\n"
   ]
  },
  {
   "cell_type": "code",
   "execution_count": 15,
   "id": "88be34be-7235-405f-9b68-84fe6b080029",
   "metadata": {},
   "outputs": [
    {
     "data": {
      "text/plain": [
       "array([0.92679964, 1.11235404, 0.92679964, 0.92679964, 0.92679964,\n",
       "       1.07210782, 1.07210782, 1.07210782, 1.07210782, 0.92679964,\n",
       "       0.92079961, 1.07210782, 1.11235404, 1.11235404, 1.07210782,\n",
       "       1.07210782, 0.92679964, 0.92679964, 0.92679964, 0.92679964,\n",
       "       0.92679964, 0.92079961, 0.92079961, 0.92679964, 0.92079961,\n",
       "       1.11235404, 0.92679964, 1.07210782, 0.92079961, 0.92079961,\n",
       "       1.11235404, 0.92679964, 1.07210782, 0.92079961, 1.11235404,\n",
       "       1.11235404, 1.11235404, 0.92679964, 1.07210782, 1.07210782,\n",
       "       1.11235404, 0.92079961, 0.92679964, 0.92079961, 0.92079961,\n",
       "       0.92079961, 0.92679964, 1.07210782, 1.07210782, 0.92679964,\n",
       "       0.92679964, 1.07210782, 0.92679964, 0.92679964, 0.92079961,\n",
       "       0.92679964, 1.07210782, 1.07210782, 1.07210782, 1.07210782,\n",
       "       0.92079961, 0.92079961, 0.92679964, 0.92679964, 0.92679964,\n",
       "       0.92079961, 0.92079961, 0.92679964, 0.92079961, 1.07210782,\n",
       "       0.92079961, 1.07210782, 0.92079961, 0.92679964, 0.92679964,\n",
       "       1.07210782, 0.92679964, 0.92079961, 0.92079961, 0.92079961,\n",
       "       0.92679964, 1.07210782, 1.07210782, 1.11235404, 1.07210782,\n",
       "       1.07210782, 0.92679964, 1.11235404, 0.92679964, 0.92079961,\n",
       "       1.07210782, 0.92079961, 0.92679964, 0.92079961, 0.92079961,\n",
       "       1.11235404, 1.11235404, 1.11235404, 1.11235404, 0.92079961,\n",
       "       1.11235404, 1.11235404, 1.07210782, 1.07210782, 0.92079961,\n",
       "       0.92679964, 1.11235404, 0.92079961, 0.92079961, 1.07210782,\n",
       "       1.11235404, 0.92079961, 0.92679964, 0.92079961, 1.07210782,\n",
       "       0.92079961, 1.07210782, 0.92079961, 0.92079961, 1.11235404,\n",
       "       1.07210782, 0.92679964, 1.11235404, 1.11235404, 0.92679964,\n",
       "       1.07210782, 1.07210782, 0.92079961, 1.11235404, 0.92679964,\n",
       "       0.92679964, 1.07210782, 1.07210782, 0.92679964, 0.92679964,\n",
       "       0.92679964, 1.11235404, 0.92079961, 0.92679964, 0.92079961,\n",
       "       0.92079961, 0.92679964, 0.92679964, 1.11235404, 0.92679964,\n",
       "       0.92079961, 0.92079961, 1.11235404, 1.07210782, 0.92679964,\n",
       "       0.92079961, 1.07210782, 1.07210782, 0.92679964, 1.07210782,\n",
       "       0.92079961, 0.92679964, 1.07210782, 1.11235404, 0.92079961,\n",
       "       1.07210782, 1.11235404, 0.92679964, 1.07210782, 0.92079961,\n",
       "       1.07210782, 1.07210782, 1.11235404, 1.07210782, 1.07210782,\n",
       "       0.92679964, 0.92079961, 0.92079961, 1.07210782, 1.07210782,\n",
       "       1.07210782, 1.07210782, 1.07210782, 0.92679964, 1.11235404,\n",
       "       0.92679964, 0.92679964, 1.07210782, 0.92079961, 1.07210782,\n",
       "       1.07210782, 1.11235404, 1.11235404, 1.07210782, 0.92679964,\n",
       "       0.92079961, 1.11235404, 0.92079961, 1.11235404, 0.92079961,\n",
       "       0.92679964, 1.11235404, 0.92679964, 0.92679964, 1.11235404,\n",
       "       1.07210782, 1.07210782, 0.92079961, 0.92679964, 0.92079961,\n",
       "       0.92679964, 1.11235404, 1.07210782, 0.92079961, 1.11235404,\n",
       "       1.07210782, 1.07210782, 0.92679964, 1.07210782, 0.92679964,\n",
       "       1.11235404, 1.11235404, 0.92679964, 1.07210782, 0.92079961,\n",
       "       0.92079961, 0.92079961, 0.92079961, 0.92679964, 0.92679964,\n",
       "       0.92079961, 1.07210782, 0.92679964, 1.11235404, 1.07210782,\n",
       "       1.11235404, 1.11235404, 1.07210782, 0.92079961, 0.92079961,\n",
       "       1.07210782, 0.92679964])"
      ]
     },
     "execution_count": 15,
     "metadata": {},
     "output_type": "execute_result"
    }
   ],
   "source": [
    "from aif360.algorithms.preprocessing import Reweighing\n",
    "\n",
    "reweighing = Reweighing(unprivileged_groups=unprivileged_groups, privileged_groups=privileged_groups)\n",
    "dataset_orig_train_rw = reweighing.fit_transform(dataset_orig_train)\n",
    "\n",
    "weights = dataset_orig_train_rw.instance_weights\n",
    "weights"
   ]
  },
  {
   "cell_type": "code",
   "execution_count": 16,
   "id": "ccd2e170-a3e0-4457-876d-78849fd55a91",
   "metadata": {},
   "outputs": [
    {
     "data": {
      "text/html": [
       "<style>#sk-container-id-3 {color: black;background-color: white;}#sk-container-id-3 pre{padding: 0;}#sk-container-id-3 div.sk-toggleable {background-color: white;}#sk-container-id-3 label.sk-toggleable__label {cursor: pointer;display: block;width: 100%;margin-bottom: 0;padding: 0.3em;box-sizing: border-box;text-align: center;}#sk-container-id-3 label.sk-toggleable__label-arrow:before {content: \"▸\";float: left;margin-right: 0.25em;color: #696969;}#sk-container-id-3 label.sk-toggleable__label-arrow:hover:before {color: black;}#sk-container-id-3 div.sk-estimator:hover label.sk-toggleable__label-arrow:before {color: black;}#sk-container-id-3 div.sk-toggleable__content {max-height: 0;max-width: 0;overflow: hidden;text-align: left;background-color: #f0f8ff;}#sk-container-id-3 div.sk-toggleable__content pre {margin: 0.2em;color: black;border-radius: 0.25em;background-color: #f0f8ff;}#sk-container-id-3 input.sk-toggleable__control:checked~div.sk-toggleable__content {max-height: 200px;max-width: 100%;overflow: auto;}#sk-container-id-3 input.sk-toggleable__control:checked~label.sk-toggleable__label-arrow:before {content: \"▾\";}#sk-container-id-3 div.sk-estimator input.sk-toggleable__control:checked~label.sk-toggleable__label {background-color: #d4ebff;}#sk-container-id-3 div.sk-label input.sk-toggleable__control:checked~label.sk-toggleable__label {background-color: #d4ebff;}#sk-container-id-3 input.sk-hidden--visually {border: 0;clip: rect(1px 1px 1px 1px);clip: rect(1px, 1px, 1px, 1px);height: 1px;margin: -1px;overflow: hidden;padding: 0;position: absolute;width: 1px;}#sk-container-id-3 div.sk-estimator {font-family: monospace;background-color: #f0f8ff;border: 1px dotted black;border-radius: 0.25em;box-sizing: border-box;margin-bottom: 0.5em;}#sk-container-id-3 div.sk-estimator:hover {background-color: #d4ebff;}#sk-container-id-3 div.sk-parallel-item::after {content: \"\";width: 100%;border-bottom: 1px solid gray;flex-grow: 1;}#sk-container-id-3 div.sk-label:hover label.sk-toggleable__label {background-color: #d4ebff;}#sk-container-id-3 div.sk-serial::before {content: \"\";position: absolute;border-left: 1px solid gray;box-sizing: border-box;top: 0;bottom: 0;left: 50%;z-index: 0;}#sk-container-id-3 div.sk-serial {display: flex;flex-direction: column;align-items: center;background-color: white;padding-right: 0.2em;padding-left: 0.2em;position: relative;}#sk-container-id-3 div.sk-item {position: relative;z-index: 1;}#sk-container-id-3 div.sk-parallel {display: flex;align-items: stretch;justify-content: center;background-color: white;position: relative;}#sk-container-id-3 div.sk-item::before, #sk-container-id-3 div.sk-parallel-item::before {content: \"\";position: absolute;border-left: 1px solid gray;box-sizing: border-box;top: 0;bottom: 0;left: 50%;z-index: -1;}#sk-container-id-3 div.sk-parallel-item {display: flex;flex-direction: column;z-index: 1;position: relative;background-color: white;}#sk-container-id-3 div.sk-parallel-item:first-child::after {align-self: flex-end;width: 50%;}#sk-container-id-3 div.sk-parallel-item:last-child::after {align-self: flex-start;width: 50%;}#sk-container-id-3 div.sk-parallel-item:only-child::after {width: 0;}#sk-container-id-3 div.sk-dashed-wrapped {border: 1px dashed gray;margin: 0 0.4em 0.5em 0.4em;box-sizing: border-box;padding-bottom: 0.4em;background-color: white;}#sk-container-id-3 div.sk-label label {font-family: monospace;font-weight: bold;display: inline-block;line-height: 1.2em;}#sk-container-id-3 div.sk-label-container {text-align: center;}#sk-container-id-3 div.sk-container {/* jupyter's `normalize.less` sets `[hidden] { display: none; }` but bootstrap.min.css set `[hidden] { display: none !important; }` so we also need the `!important` here to be able to override the default hidden behavior on the sphinx rendered scikit-learn.org. See: https://github.com/scikit-learn/scikit-learn/issues/21755 */display: inline-block !important;position: relative;}#sk-container-id-3 div.sk-text-repr-fallback {display: none;}</style><div id=\"sk-container-id-3\" class=\"sk-top-container\"><div class=\"sk-text-repr-fallback\"><pre>LogisticRegression(random_state=42, solver=&#x27;liblinear&#x27;)</pre><b>In a Jupyter environment, please rerun this cell to show the HTML representation or trust the notebook. <br />On GitHub, the HTML representation is unable to render, please try loading this page with nbviewer.org.</b></div><div class=\"sk-container\" hidden><div class=\"sk-item\"><div class=\"sk-estimator sk-toggleable\"><input class=\"sk-toggleable__control sk-hidden--visually\" id=\"sk-estimator-id-3\" type=\"checkbox\" checked><label for=\"sk-estimator-id-3\" class=\"sk-toggleable__label sk-toggleable__label-arrow\">LogisticRegression</label><div class=\"sk-toggleable__content\"><pre>LogisticRegression(random_state=42, solver=&#x27;liblinear&#x27;)</pre></div></div></div></div></div>"
      ],
      "text/plain": [
       "LogisticRegression(random_state=42, solver='liblinear')"
      ]
     },
     "execution_count": 16,
     "metadata": {},
     "output_type": "execute_result"
    }
   ],
   "source": [
    "from sklearn.linear_model import LogisticRegression\n",
    "\n",
    "model = LogisticRegression(solver='liblinear', random_state=42)\n",
    "model.fit(dataset_orig_train_rw.features, dataset_orig_train_rw.labels.ravel(), sample_weight=dataset_orig_train_rw.instance_weights)\n",
    "model"
   ]
  },
  {
   "cell_type": "code",
   "execution_count": 17,
   "id": "196a2554-c740-467b-8752-dcacb013674c",
   "metadata": {},
   "outputs": [
    {
     "name": "stdout",
     "output_type": "stream",
     "text": [
      "Accuracy: 0.8734177215189873\n",
      "Mean difference (testing set): 0.03809523809523807\n"
     ]
    }
   ],
   "source": [
    "from sklearn.metrics import accuracy_score\n",
    "\n",
    "test_pred = model.predict(dataset_orig_test.features)\n",
    "\n",
    "accuracy = accuracy_score(dataset_orig_test.labels, test_pred)\n",
    "print(\"Accuracy:\", accuracy)\n",
    "\n",
    "testing_metrics = BinaryLabelDatasetMetric(dataset_orig_test, unprivileged_groups=unprivileged_groups, privileged_groups=privileged_groups)\n",
    "print(\"Mean difference (testing set):\", testing_metrics.mean_difference())"
   ]
  },
  {
   "cell_type": "code",
   "execution_count": 10,
   "id": "8263eb8d-ce3b-4fad-8158-c750078fb32f",
   "metadata": {},
   "outputs": [],
   "source": [
    "#Do Random Forest model for the same thing"
   ]
  },
  {
   "cell_type": "code",
   "execution_count": 18,
   "id": "66f931a9-9801-4776-929f-a990b9ebbeb9",
   "metadata": {},
   "outputs": [],
   "source": [
    "from sklearn.ensemble import RandomForestClassifier\n",
    "from sklearn.datasets import make_classification"
   ]
  },
  {
   "cell_type": "code",
   "execution_count": 27,
   "id": "d3d56c69-8053-4616-b596-c06048255502",
   "metadata": {},
   "outputs": [
    {
     "data": {
      "text/plain": [
       "array([[0.],\n",
       "       [0.],\n",
       "       [0.],\n",
       "       [0.],\n",
       "       [0.],\n",
       "       [1.],\n",
       "       [1.],\n",
       "       [1.],\n",
       "       [1.],\n",
       "       [0.],\n",
       "       [1.],\n",
       "       [1.],\n",
       "       [0.],\n",
       "       [0.],\n",
       "       [1.],\n",
       "       [1.],\n",
       "       [0.],\n",
       "       [0.],\n",
       "       [0.],\n",
       "       [0.],\n",
       "       [0.],\n",
       "       [1.],\n",
       "       [1.],\n",
       "       [0.],\n",
       "       [1.],\n",
       "       [0.],\n",
       "       [0.],\n",
       "       [1.],\n",
       "       [1.],\n",
       "       [1.],\n",
       "       [0.],\n",
       "       [0.],\n",
       "       [1.],\n",
       "       [1.],\n",
       "       [0.],\n",
       "       [0.],\n",
       "       [0.],\n",
       "       [0.],\n",
       "       [1.],\n",
       "       [1.],\n",
       "       [0.],\n",
       "       [1.],\n",
       "       [0.],\n",
       "       [1.],\n",
       "       [1.],\n",
       "       [1.],\n",
       "       [0.],\n",
       "       [1.],\n",
       "       [1.],\n",
       "       [0.],\n",
       "       [0.],\n",
       "       [1.],\n",
       "       [0.],\n",
       "       [0.],\n",
       "       [1.],\n",
       "       [0.],\n",
       "       [1.],\n",
       "       [1.],\n",
       "       [1.],\n",
       "       [1.],\n",
       "       [1.],\n",
       "       [1.],\n",
       "       [0.],\n",
       "       [0.],\n",
       "       [0.],\n",
       "       [1.],\n",
       "       [1.],\n",
       "       [0.],\n",
       "       [1.],\n",
       "       [1.],\n",
       "       [1.],\n",
       "       [1.],\n",
       "       [1.],\n",
       "       [0.],\n",
       "       [0.],\n",
       "       [1.],\n",
       "       [0.],\n",
       "       [1.],\n",
       "       [1.],\n",
       "       [1.],\n",
       "       [0.],\n",
       "       [1.],\n",
       "       [1.],\n",
       "       [0.],\n",
       "       [1.],\n",
       "       [1.],\n",
       "       [0.],\n",
       "       [0.],\n",
       "       [0.],\n",
       "       [1.],\n",
       "       [1.],\n",
       "       [1.],\n",
       "       [0.],\n",
       "       [1.],\n",
       "       [1.],\n",
       "       [0.],\n",
       "       [0.],\n",
       "       [0.],\n",
       "       [0.],\n",
       "       [1.],\n",
       "       [0.],\n",
       "       [0.],\n",
       "       [1.],\n",
       "       [1.],\n",
       "       [1.],\n",
       "       [0.],\n",
       "       [0.],\n",
       "       [1.],\n",
       "       [1.],\n",
       "       [1.],\n",
       "       [0.],\n",
       "       [1.],\n",
       "       [0.],\n",
       "       [1.],\n",
       "       [1.],\n",
       "       [1.],\n",
       "       [1.],\n",
       "       [1.],\n",
       "       [1.],\n",
       "       [0.],\n",
       "       [1.],\n",
       "       [0.],\n",
       "       [0.],\n",
       "       [0.],\n",
       "       [0.],\n",
       "       [1.],\n",
       "       [1.],\n",
       "       [1.],\n",
       "       [0.],\n",
       "       [0.],\n",
       "       [0.],\n",
       "       [1.],\n",
       "       [1.],\n",
       "       [0.],\n",
       "       [0.],\n",
       "       [0.],\n",
       "       [0.],\n",
       "       [1.],\n",
       "       [0.],\n",
       "       [1.],\n",
       "       [1.],\n",
       "       [0.],\n",
       "       [0.],\n",
       "       [0.],\n",
       "       [0.],\n",
       "       [1.],\n",
       "       [1.],\n",
       "       [0.],\n",
       "       [1.],\n",
       "       [0.],\n",
       "       [1.],\n",
       "       [1.],\n",
       "       [1.],\n",
       "       [0.],\n",
       "       [1.],\n",
       "       [1.],\n",
       "       [0.],\n",
       "       [1.],\n",
       "       [0.],\n",
       "       [1.],\n",
       "       [1.],\n",
       "       [0.],\n",
       "       [0.],\n",
       "       [1.],\n",
       "       [1.],\n",
       "       [1.],\n",
       "       [1.],\n",
       "       [0.],\n",
       "       [1.],\n",
       "       [1.],\n",
       "       [0.],\n",
       "       [1.],\n",
       "       [1.],\n",
       "       [1.],\n",
       "       [1.],\n",
       "       [1.],\n",
       "       [1.],\n",
       "       [1.],\n",
       "       [0.],\n",
       "       [0.],\n",
       "       [0.],\n",
       "       [0.],\n",
       "       [1.],\n",
       "       [1.],\n",
       "       [1.],\n",
       "       [1.],\n",
       "       [0.],\n",
       "       [0.],\n",
       "       [1.],\n",
       "       [0.],\n",
       "       [1.],\n",
       "       [0.],\n",
       "       [1.],\n",
       "       [0.],\n",
       "       [1.],\n",
       "       [0.],\n",
       "       [0.],\n",
       "       [0.],\n",
       "       [0.],\n",
       "       [0.],\n",
       "       [1.],\n",
       "       [1.],\n",
       "       [1.],\n",
       "       [0.],\n",
       "       [1.],\n",
       "       [0.],\n",
       "       [0.],\n",
       "       [1.],\n",
       "       [1.],\n",
       "       [0.],\n",
       "       [1.],\n",
       "       [1.],\n",
       "       [0.],\n",
       "       [1.],\n",
       "       [0.],\n",
       "       [0.],\n",
       "       [0.],\n",
       "       [0.],\n",
       "       [1.],\n",
       "       [1.],\n",
       "       [1.],\n",
       "       [1.],\n",
       "       [1.],\n",
       "       [0.],\n",
       "       [0.],\n",
       "       [1.],\n",
       "       [1.],\n",
       "       [0.],\n",
       "       [0.],\n",
       "       [1.],\n",
       "       [0.],\n",
       "       [0.],\n",
       "       [1.],\n",
       "       [1.],\n",
       "       [1.],\n",
       "       [1.],\n",
       "       [0.]])"
      ]
     },
     "execution_count": 27,
     "metadata": {},
     "output_type": "execute_result"
    }
   ],
   "source": [
    "dataset_orig_train.labels"
   ]
  },
  {
   "cell_type": "code",
   "execution_count": 33,
   "id": "3b86ac9b-c097-4add-92d4-5ac488a4f819",
   "metadata": {},
   "outputs": [
    {
     "data": {
      "text/html": [
       "<style>#sk-container-id-8 {color: black;background-color: white;}#sk-container-id-8 pre{padding: 0;}#sk-container-id-8 div.sk-toggleable {background-color: white;}#sk-container-id-8 label.sk-toggleable__label {cursor: pointer;display: block;width: 100%;margin-bottom: 0;padding: 0.3em;box-sizing: border-box;text-align: center;}#sk-container-id-8 label.sk-toggleable__label-arrow:before {content: \"▸\";float: left;margin-right: 0.25em;color: #696969;}#sk-container-id-8 label.sk-toggleable__label-arrow:hover:before {color: black;}#sk-container-id-8 div.sk-estimator:hover label.sk-toggleable__label-arrow:before {color: black;}#sk-container-id-8 div.sk-toggleable__content {max-height: 0;max-width: 0;overflow: hidden;text-align: left;background-color: #f0f8ff;}#sk-container-id-8 div.sk-toggleable__content pre {margin: 0.2em;color: black;border-radius: 0.25em;background-color: #f0f8ff;}#sk-container-id-8 input.sk-toggleable__control:checked~div.sk-toggleable__content {max-height: 200px;max-width: 100%;overflow: auto;}#sk-container-id-8 input.sk-toggleable__control:checked~label.sk-toggleable__label-arrow:before {content: \"▾\";}#sk-container-id-8 div.sk-estimator input.sk-toggleable__control:checked~label.sk-toggleable__label {background-color: #d4ebff;}#sk-container-id-8 div.sk-label input.sk-toggleable__control:checked~label.sk-toggleable__label {background-color: #d4ebff;}#sk-container-id-8 input.sk-hidden--visually {border: 0;clip: rect(1px 1px 1px 1px);clip: rect(1px, 1px, 1px, 1px);height: 1px;margin: -1px;overflow: hidden;padding: 0;position: absolute;width: 1px;}#sk-container-id-8 div.sk-estimator {font-family: monospace;background-color: #f0f8ff;border: 1px dotted black;border-radius: 0.25em;box-sizing: border-box;margin-bottom: 0.5em;}#sk-container-id-8 div.sk-estimator:hover {background-color: #d4ebff;}#sk-container-id-8 div.sk-parallel-item::after {content: \"\";width: 100%;border-bottom: 1px solid gray;flex-grow: 1;}#sk-container-id-8 div.sk-label:hover label.sk-toggleable__label {background-color: #d4ebff;}#sk-container-id-8 div.sk-serial::before {content: \"\";position: absolute;border-left: 1px solid gray;box-sizing: border-box;top: 0;bottom: 0;left: 50%;z-index: 0;}#sk-container-id-8 div.sk-serial {display: flex;flex-direction: column;align-items: center;background-color: white;padding-right: 0.2em;padding-left: 0.2em;position: relative;}#sk-container-id-8 div.sk-item {position: relative;z-index: 1;}#sk-container-id-8 div.sk-parallel {display: flex;align-items: stretch;justify-content: center;background-color: white;position: relative;}#sk-container-id-8 div.sk-item::before, #sk-container-id-8 div.sk-parallel-item::before {content: \"\";position: absolute;border-left: 1px solid gray;box-sizing: border-box;top: 0;bottom: 0;left: 50%;z-index: -1;}#sk-container-id-8 div.sk-parallel-item {display: flex;flex-direction: column;z-index: 1;position: relative;background-color: white;}#sk-container-id-8 div.sk-parallel-item:first-child::after {align-self: flex-end;width: 50%;}#sk-container-id-8 div.sk-parallel-item:last-child::after {align-self: flex-start;width: 50%;}#sk-container-id-8 div.sk-parallel-item:only-child::after {width: 0;}#sk-container-id-8 div.sk-dashed-wrapped {border: 1px dashed gray;margin: 0 0.4em 0.5em 0.4em;box-sizing: border-box;padding-bottom: 0.4em;background-color: white;}#sk-container-id-8 div.sk-label label {font-family: monospace;font-weight: bold;display: inline-block;line-height: 1.2em;}#sk-container-id-8 div.sk-label-container {text-align: center;}#sk-container-id-8 div.sk-container {/* jupyter's `normalize.less` sets `[hidden] { display: none; }` but bootstrap.min.css set `[hidden] { display: none !important; }` so we also need the `!important` here to be able to override the default hidden behavior on the sphinx rendered scikit-learn.org. See: https://github.com/scikit-learn/scikit-learn/issues/21755 */display: inline-block !important;position: relative;}#sk-container-id-8 div.sk-text-repr-fallback {display: none;}</style><div id=\"sk-container-id-8\" class=\"sk-top-container\"><div class=\"sk-text-repr-fallback\"><pre>RandomForestClassifier(random_state=42)</pre><b>In a Jupyter environment, please rerun this cell to show the HTML representation or trust the notebook. <br />On GitHub, the HTML representation is unable to render, please try loading this page with nbviewer.org.</b></div><div class=\"sk-container\" hidden><div class=\"sk-item\"><div class=\"sk-estimator sk-toggleable\"><input class=\"sk-toggleable__control sk-hidden--visually\" id=\"sk-estimator-id-8\" type=\"checkbox\" checked><label for=\"sk-estimator-id-8\" class=\"sk-toggleable__label sk-toggleable__label-arrow\">RandomForestClassifier</label><div class=\"sk-toggleable__content\"><pre>RandomForestClassifier(random_state=42)</pre></div></div></div></div></div>"
      ],
      "text/plain": [
       "RandomForestClassifier(random_state=42)"
      ]
     },
     "execution_count": 33,
     "metadata": {},
     "output_type": "execute_result"
    }
   ],
   "source": [
    "original_model_rf = RandomForestClassifier(random_state=42)\n",
    "original_model_rf.fit(dataset_orig_train.features, dataset_orig_train.labels.ravel())"
   ]
  },
  {
   "cell_type": "code",
   "execution_count": 29,
   "id": "90e56909-4f3d-4cc1-8efa-85493c1d97c6",
   "metadata": {},
   "outputs": [
    {
     "name": "stdout",
     "output_type": "stream",
     "text": [
      "Accuracy_before: 0.9367088607594937\n"
     ]
    }
   ],
   "source": [
    "from sklearn.metrics import accuracy_score\n",
    "test_pred = original_model_rf.predict(dataset_orig_test.features)\n",
    "\n",
    "accuracy_before = accuracy_score(dataset_orig_test.labels, test_pred)\n",
    "\n",
    "print(\"Accuracy_before:\", accuracy_before)\n"
   ]
  },
  {
   "cell_type": "code",
   "execution_count": 34,
   "id": "f182673d-28c5-4feb-8afb-8c9aeb9fde4d",
   "metadata": {},
   "outputs": [
    {
     "data": {
      "text/html": [
       "<style>#sk-container-id-9 {color: black;background-color: white;}#sk-container-id-9 pre{padding: 0;}#sk-container-id-9 div.sk-toggleable {background-color: white;}#sk-container-id-9 label.sk-toggleable__label {cursor: pointer;display: block;width: 100%;margin-bottom: 0;padding: 0.3em;box-sizing: border-box;text-align: center;}#sk-container-id-9 label.sk-toggleable__label-arrow:before {content: \"▸\";float: left;margin-right: 0.25em;color: #696969;}#sk-container-id-9 label.sk-toggleable__label-arrow:hover:before {color: black;}#sk-container-id-9 div.sk-estimator:hover label.sk-toggleable__label-arrow:before {color: black;}#sk-container-id-9 div.sk-toggleable__content {max-height: 0;max-width: 0;overflow: hidden;text-align: left;background-color: #f0f8ff;}#sk-container-id-9 div.sk-toggleable__content pre {margin: 0.2em;color: black;border-radius: 0.25em;background-color: #f0f8ff;}#sk-container-id-9 input.sk-toggleable__control:checked~div.sk-toggleable__content {max-height: 200px;max-width: 100%;overflow: auto;}#sk-container-id-9 input.sk-toggleable__control:checked~label.sk-toggleable__label-arrow:before {content: \"▾\";}#sk-container-id-9 div.sk-estimator input.sk-toggleable__control:checked~label.sk-toggleable__label {background-color: #d4ebff;}#sk-container-id-9 div.sk-label input.sk-toggleable__control:checked~label.sk-toggleable__label {background-color: #d4ebff;}#sk-container-id-9 input.sk-hidden--visually {border: 0;clip: rect(1px 1px 1px 1px);clip: rect(1px, 1px, 1px, 1px);height: 1px;margin: -1px;overflow: hidden;padding: 0;position: absolute;width: 1px;}#sk-container-id-9 div.sk-estimator {font-family: monospace;background-color: #f0f8ff;border: 1px dotted black;border-radius: 0.25em;box-sizing: border-box;margin-bottom: 0.5em;}#sk-container-id-9 div.sk-estimator:hover {background-color: #d4ebff;}#sk-container-id-9 div.sk-parallel-item::after {content: \"\";width: 100%;border-bottom: 1px solid gray;flex-grow: 1;}#sk-container-id-9 div.sk-label:hover label.sk-toggleable__label {background-color: #d4ebff;}#sk-container-id-9 div.sk-serial::before {content: \"\";position: absolute;border-left: 1px solid gray;box-sizing: border-box;top: 0;bottom: 0;left: 50%;z-index: 0;}#sk-container-id-9 div.sk-serial {display: flex;flex-direction: column;align-items: center;background-color: white;padding-right: 0.2em;padding-left: 0.2em;position: relative;}#sk-container-id-9 div.sk-item {position: relative;z-index: 1;}#sk-container-id-9 div.sk-parallel {display: flex;align-items: stretch;justify-content: center;background-color: white;position: relative;}#sk-container-id-9 div.sk-item::before, #sk-container-id-9 div.sk-parallel-item::before {content: \"\";position: absolute;border-left: 1px solid gray;box-sizing: border-box;top: 0;bottom: 0;left: 50%;z-index: -1;}#sk-container-id-9 div.sk-parallel-item {display: flex;flex-direction: column;z-index: 1;position: relative;background-color: white;}#sk-container-id-9 div.sk-parallel-item:first-child::after {align-self: flex-end;width: 50%;}#sk-container-id-9 div.sk-parallel-item:last-child::after {align-self: flex-start;width: 50%;}#sk-container-id-9 div.sk-parallel-item:only-child::after {width: 0;}#sk-container-id-9 div.sk-dashed-wrapped {border: 1px dashed gray;margin: 0 0.4em 0.5em 0.4em;box-sizing: border-box;padding-bottom: 0.4em;background-color: white;}#sk-container-id-9 div.sk-label label {font-family: monospace;font-weight: bold;display: inline-block;line-height: 1.2em;}#sk-container-id-9 div.sk-label-container {text-align: center;}#sk-container-id-9 div.sk-container {/* jupyter's `normalize.less` sets `[hidden] { display: none; }` but bootstrap.min.css set `[hidden] { display: none !important; }` so we also need the `!important` here to be able to override the default hidden behavior on the sphinx rendered scikit-learn.org. See: https://github.com/scikit-learn/scikit-learn/issues/21755 */display: inline-block !important;position: relative;}#sk-container-id-9 div.sk-text-repr-fallback {display: none;}</style><div id=\"sk-container-id-9\" class=\"sk-top-container\"><div class=\"sk-text-repr-fallback\"><pre>RandomForestClassifier(random_state=42)</pre><b>In a Jupyter environment, please rerun this cell to show the HTML representation or trust the notebook. <br />On GitHub, the HTML representation is unable to render, please try loading this page with nbviewer.org.</b></div><div class=\"sk-container\" hidden><div class=\"sk-item\"><div class=\"sk-estimator sk-toggleable\"><input class=\"sk-toggleable__control sk-hidden--visually\" id=\"sk-estimator-id-9\" type=\"checkbox\" checked><label for=\"sk-estimator-id-9\" class=\"sk-toggleable__label sk-toggleable__label-arrow\">RandomForestClassifier</label><div class=\"sk-toggleable__content\"><pre>RandomForestClassifier(random_state=42)</pre></div></div></div></div></div>"
      ],
      "text/plain": [
       "RandomForestClassifier(random_state=42)"
      ]
     },
     "execution_count": 34,
     "metadata": {},
     "output_type": "execute_result"
    }
   ],
   "source": [
    "model_after_rf = RandomForestClassifier(random_state=42)\n",
    "model_after_rf.fit(dataset_orig_train_rw.features, dataset_orig_train_rw.labels.ravel(), sample_weight=dataset_orig_train_rw.instance_weights)"
   ]
  },
  {
   "cell_type": "code",
   "execution_count": 35,
   "id": "441c78e3-91ae-4403-a8ed-2126f802806c",
   "metadata": {},
   "outputs": [
    {
     "name": "stdout",
     "output_type": "stream",
     "text": [
      "Accuracy: 0.9493670886075949\n",
      "Mean difference (testing set): 0.03809523809523807\n"
     ]
    }
   ],
   "source": [
    "test_pred = model_after_rf.predict(dataset_orig_test.features)\n",
    "\n",
    "accuracy = accuracy_score(dataset_orig_test.labels, test_pred)\n",
    "print(\"Accuracy:\", accuracy)\n",
    "\n",
    "testing_metrics = BinaryLabelDatasetMetric(dataset_orig_test, unprivileged_groups=unprivileged_groups, privileged_groups=privileged_groups)\n",
    "print(\"Mean difference (testing set):\", testing_metrics.mean_difference())"
   ]
  },
  {
   "cell_type": "code",
   "execution_count": null,
   "id": "fc1945ac-70a2-476c-aebc-19fb90ba5644",
   "metadata": {},
   "outputs": [],
   "source": []
  }
 ],
 "metadata": {
  "kernelspec": {
   "display_name": "Python 3 (ipykernel)",
   "language": "python",
   "name": "python3"
  },
  "language_info": {
   "codemirror_mode": {
    "name": "ipython",
    "version": 3
   },
   "file_extension": ".py",
   "mimetype": "text/x-python",
   "name": "python",
   "nbconvert_exporter": "python",
   "pygments_lexer": "ipython3",
   "version": "3.11.7"
  }
 },
 "nbformat": 4,
 "nbformat_minor": 5
}
